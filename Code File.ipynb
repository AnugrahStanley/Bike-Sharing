{
 "cells": [
  {
   "cell_type": "markdown",
   "id": "aa505ece",
   "metadata": {},
   "source": [
    "\n",
    "<div style=\"color:white;\n",
    "           display:fill;\n",
    "           border-radius:5px;\n",
    "           background-color:#1663BE;\n",
    "           font-size:110%;\n",
    "           font-family:Calibri;\n",
    "           letter-spacing:0.5px\">\n",
    "\n",
    "<p style=\"padding: 0.015px;\n",
    "              color:black;\">  \n",
    "\n",
    "#   1. Problem Statement\n",
    "\n",
    "<p style=\"padding: 0.015px;\n",
    "              color:white;\">\n",
    "</p>\n",
    "</div>"
   ]
  },
  {
   "cell_type": "markdown",
   "id": "caa54ffd",
   "metadata": {},
   "source": [
    "A bike-sharing system is a service in which bikes are made available for shared use to individuals on a short term basis for a price or free. Many bike share systems allow people to borrow a bike from a \"dock\" which is usually computer-controlled wherein the user enters the payment information, and the system unlocks it. This bike can then be returned to another dock belonging to the same system.\n",
    "\n",
    "\n",
    "A US bike-sharing provider <b>BoomBikes</b> has recently suffered considerable dips in their revenues due to the ongoing Corona pandemic. The company is finding it very difficult to sustain in the current market scenario. So, it has decided to come up with a mindful business plan to be able to accelerate its revenue as soon as the ongoing lockdown comes to an end, and the economy restores to a healthy state. \n",
    "\n",
    "\n",
    "In such an attempt, BoomBikes aspires to understand the demand for shared bikes among the people after this ongoing quarantine situation ends across the nation due to Covid-19. They have planned this to prepare themselves to cater to the people's needs once the situation gets better all around and stand out from other service providers and make huge profits.\n",
    "\n",
    "\n",
    "They have contracted a consulting company to understand the factors on which the demand for these shared bikes depends. Specifically, they want to understand the factors affecting the demand for these shared bikes in the American market. The company wants to know:\n",
    " - Which variables are significant in predicting the demand for shared bikes.\n",
    " - How well those variables describe the bike demands.\n",
    " \n",
    "Based on various meteorological surveys and people's styles, the service provider firm has gathered a large dataset on daily bike demands across the American market based on some factors. "
   ]
  },
  {
   "cell_type": "markdown",
   "id": "2c737553",
   "metadata": {},
   "source": [
    "\n",
    "<div style=\"color:white;\n",
    "           display:fill;\n",
    "           border-radius:5px;\n",
    "           background-color:#1663BE;\n",
    "           font-size:110%;\n",
    "           font-family:Calibri;\n",
    "           letter-spacing:0.5px\">\n",
    "\n",
    "<p style=\"padding: 0.015px;\n",
    "              color:black;\">  \n",
    "\n",
    "#   2. Business Goal\n",
    "\n",
    "<p style=\"padding: 0.015px;\n",
    "              color:white;\">\n",
    "</p>\n",
    "</div>"
   ]
  },
  {
   "cell_type": "markdown",
   "id": "b6d4a42d",
   "metadata": {},
   "source": [
    "To model the demand for shared bikes with the available independent variables. It will be used by the management to understand how exactly the demands vary with different features. They can accordingly manipulate the business strategy to meet the demand levels and meet the customer's expectations. Further, the model will be a good way for management to understand the demand dynamics of a new market. "
   ]
  },
  {
   "cell_type": "markdown",
   "id": "90e7d031",
   "metadata": {},
   "source": [
    "<hr>\n",
    "<div style=\"color:white;\n",
    "           display:fill;\n",
    "           border-radius:5px;\n",
    "           background-color:#1663BE;\n",
    "           font-size:110%;\n",
    "           font-family:Calibri;\n",
    "           letter-spacing:0.5px\">\n",
    "\n",
    "<p style=\"padding: 0.015px;\n",
    "              color:black;\">  \n",
    "\n",
    "#   3. Setting Up Jupyter Notebook\n",
    "\n",
    "<p style=\"padding: 0.015px;\n",
    "              color:white;\">\n",
    "</p>\n",
    "</div>"
   ]
  },
  {
   "cell_type": "code",
   "execution_count": null,
   "id": "9b7590be",
   "metadata": {},
   "outputs": [],
   "source": [
    "# Importing and supressing warnings\n",
    "\n",
    "import warnings\n",
    "warnings.filterwarnings(\"ignore\")"
   ]
  },
  {
   "cell_type": "code",
   "execution_count": null,
   "id": "6fd68f45",
   "metadata": {},
   "outputs": [],
   "source": [
    "# Disabling output scroll bar (using Javascript)"
   ]
  },
  {
   "cell_type": "code",
   "execution_count": null,
   "id": "c4aa02b5",
   "metadata": {},
   "outputs": [],
   "source": [
    "%%javascript\n",
    "IPython.OutputArea.prototype._should_scroll = function(lines) {\n",
    "    return false;\n",
    "}"
   ]
  },
  {
   "cell_type": "markdown",
   "id": "967f539c",
   "metadata": {},
   "source": [
    "<div style=\"color:white;\n",
    "           display:fill;\n",
    "           border-radius:5px;\n",
    "           background-color:#1663BE;\n",
    "           font-size:110%;\n",
    "           font-family:Calibri;\n",
    "           letter-spacing:0.5px\">\n",
    "\n",
    "<p style=\"padding: 0.015px;\n",
    "              color:black;\">  \n",
    "\n",
    "#   4. Reading and Understanding the Data\n",
    "\n",
    "<p style=\"padding: 0.015px;\n",
    "              color:white;\">\n",
    "</p>\n",
    "</div>"
   ]
  },
  {
   "cell_type": "code",
   "execution_count": null,
   "id": "df9306be",
   "metadata": {},
   "outputs": [],
   "source": [
    "# Importing required libraries\n",
    "\n",
    "import numpy as np\n",
    "import pandas as pd"
   ]
  },
  {
   "cell_type": "code",
   "execution_count": null,
   "id": "4dc0ce44",
   "metadata": {},
   "outputs": [],
   "source": [
    "# Reading the data dictionary\n",
    "\n",
    "from pathlib import Path\n",
    "file = Path.cwd() / 'Readme.txt'\n",
    "with open(file, 'r') as text:\n",
    "    textfile = text.read()\n",
    "    print(textfile)"
   ]
  },
  {
   "cell_type": "code",
   "execution_count": null,
   "id": "7c8602e6",
   "metadata": {},
   "outputs": [],
   "source": [
    "# Reading the dataset\n",
    "\n",
    "bike=pd.read_csv(\"day.csv\")"
   ]
  },
  {
   "cell_type": "code",
   "execution_count": null,
   "id": "7a1e2e85",
   "metadata": {},
   "outputs": [],
   "source": [
    "# Inspecting the top 5 rows of the dataset\n",
    "\n",
    "bike.head()"
   ]
  },
  {
   "cell_type": "code",
   "execution_count": null,
   "id": "5bde16bc",
   "metadata": {},
   "outputs": [],
   "source": [
    "# Inspecting the rows,columns (shape) of the dataset\n",
    "\n",
    "bike.shape"
   ]
  },
  {
   "cell_type": "code",
   "execution_count": null,
   "id": "f42c1c21",
   "metadata": {},
   "outputs": [],
   "source": [
    "# Getting the information about NaN Values and Data Types of all the features in the dataset\n",
    "\n",
    "bike.info()"
   ]
  },
  {
   "cell_type": "code",
   "execution_count": null,
   "id": "5eff2997",
   "metadata": {},
   "outputs": [],
   "source": [
    "# Inspecting the statistical summary of the dataset\n",
    "\n",
    "bike.describe()"
   ]
  },
  {
   "cell_type": "code",
   "execution_count": null,
   "id": "1ccb4c03",
   "metadata": {},
   "outputs": [],
   "source": [
    "# Checking for the null values\n",
    "\n",
    "bike.isnull().sum()"
   ]
  },
  {
   "cell_type": "code",
   "execution_count": null,
   "id": "385db205",
   "metadata": {},
   "outputs": [],
   "source": [
    "# Checking number of distinct elements in each feature\n",
    "\n",
    "bike.nunique()"
   ]
  },
  {
   "cell_type": "markdown",
   "id": "3d7581f7",
   "metadata": {},
   "source": [
    "<div style=\"color:maroon;\n",
    "           display:fill;\n",
    "           border-radius:5px;\n",
    "           background-color:#FFE5B4;\n",
    "           font-size:110%;\n",
    "           font-family:Calibri;\n",
    "           letter-spacing:0.5px\">\n",
    "\n",
    "<p style=\"padding: 0.02px;\n",
    "              color:white;\">\n",
    "\n",
    "   ### Summary:\n",
    "- Performed manual elimination of features based on high p-value and high VIF.\n",
    "- The feature `dteday` is object type while rest are int/float type.\n",
    "- There are some features which are categorical in nature, but are present in int/float type.\n",
    "- There are no missing/null values in the dataset.\n",
    "\n",
    "<p style=\"padding: 0.05px;\n",
    "              color:white;\">\n",
    "</p>\n",
    "</div>"
   ]
  },
  {
   "cell_type": "markdown",
   "id": "7f4ef4bd",
   "metadata": {},
   "source": [
    "<div style=\"color:white;\n",
    "           display:fill;\n",
    "           border-radius:5px;\n",
    "           background-color:#1663BE;\n",
    "           font-size:110%;\n",
    "           font-family:Calibri;\n",
    "           letter-spacing:0.5px\">\n",
    "\n",
    "<p style=\"padding: 0.015px;\n",
    "              color:black;\">  \n",
    "\n",
    "#   5. Cleaning the Data\n",
    "\n",
    "<p style=\"padding: 0.015px;\n",
    "              color:white;\">\n",
    "</p>\n",
    "</div>"
   ]
  },
  {
   "cell_type": "code",
   "execution_count": null,
   "id": "5a1e8581",
   "metadata": {},
   "outputs": [],
   "source": [
    "# Removing Redundant/Unwanted/Irrelevant Columns\n",
    "\n",
    "bike_clean = bike.drop(columns=['instant','dteday','casual','registered'])"
   ]
  },
  {
   "cell_type": "code",
   "execution_count": null,
   "id": "8d769f98",
   "metadata": {},
   "outputs": [],
   "source": [
    "# Segregating numerical and categorical type features\n",
    "\n",
    "num_feat=[]\n",
    "cat_feat=[]\n",
    "for col in bike_clean.columns:\n",
    "    if (bike_clean[col].nunique()>12):\n",
    "        num_feat.append(col)\n",
    "    else:\n",
    "        cat_feat.append(col)\n",
    "print(f'Numeric features: {num_feat}')\n",
    "print()\n",
    "print(f'Categorical features: {cat_feat}')"
   ]
  },
  {
   "cell_type": "code",
   "execution_count": null,
   "id": "67dbbbfb",
   "metadata": {},
   "outputs": [],
   "source": [
    "# Checking correlation among the numeric features\n",
    "\n",
    "bike_clean[num_feat].corr()"
   ]
  },
  {
   "cell_type": "code",
   "execution_count": null,
   "id": "d26c452f",
   "metadata": {},
   "outputs": [],
   "source": [
    "# Removing atemp due to high correlation with temp\n",
    "\n",
    "bike_clean = bike_clean.drop(columns=[\"atemp\"])"
   ]
  },
  {
   "cell_type": "code",
   "execution_count": null,
   "id": "9af45e19",
   "metadata": {},
   "outputs": [],
   "source": [
    "# Mapping numeric values of features with actual values as per the data dictionary\n",
    "\n",
    "bike_clean.season = bike_clean.season.map({1:'spring', 2:'summer', 3:'fall', 4:'winter'})\n",
    "bike_clean.mnth = bike_clean.mnth.map({1:'jan',2:'feb',3:'mar',4:'apr',5:'may',6:'june',7:'july',8:'aug',9:'sep',10:'oct',11:'nov',12:'dec'})\n",
    "bike_clean.weekday = bike_clean.weekday.map({0:'sun',1:'mon',2:'tue',3:'wed',4:'thu',5:'fri',6:'sat'})\n",
    "bike_clean.weathersit = bike_clean.weathersit.map({1:'clear',2:'misty',3:'light_snowrain',4:'heavy_snowrain'})\n",
    "bike_clean.head()"
   ]
  },
  {
   "cell_type": "code",
   "execution_count": null,
   "id": "71e0368d",
   "metadata": {},
   "outputs": [],
   "source": [
    "# Checking the information of cleaned dataset\n",
    "\n",
    "bike_clean.info()"
   ]
  },
  {
   "cell_type": "markdown",
   "id": "5365dc91",
   "metadata": {},
   "source": [
    "<div style=\"color:maroon;\n",
    "           display:fill;\n",
    "           border-radius:5px;\n",
    "           background-color:#FFE5B4;\n",
    "           font-size:110%;\n",
    "           font-family:Calibri;\n",
    "           letter-spacing:0.5px\">\n",
    "\n",
    "<p style=\"padding: 0.02px;\n",
    "              color:white;\">\n",
    "\n",
    "### Summary\n",
    "\n",
    "The following variables were dropped because they were found to be either redundant, unwanted or irrelevant:\n",
    "1. `instant`:    \n",
    "    Its only an index value  \n",
    "2. `dteday`:              \n",
    "    This feature can be removed as we already have seperate column for `yr` and `mnth`.    \n",
    "3. `casual` & `registered`:\n",
    "    Both these columns contains the count of bike booked by different categories of customers. Since our objective is to find \n",
    "    the total count of bikes and not by specific category, we will ignore these two columns. More over, we have created a new \n",
    "    variable to have the ratio of these customer types.\n",
    "4. `atemp`:\n",
    "    It has high correlation with `temp` hence decided to keep only `temp` as both feature more or less capture similar kind of data.\n",
    "    \n",
    "\n",
    "Also, the features `season`, `mnth`, `weekday` and `weathersit` were mapped with their actual values for better understanding.\n",
    "<p style=\"padding: 0.05px;\n",
    "              color:white;\">\n",
    "</p>\n",
    "</div>"
   ]
  },
  {
   "cell_type": "markdown",
   "id": "dfaab390",
   "metadata": {},
   "source": [
    "<div style=\"color:white;\n",
    "           display:fill;\n",
    "           border-radius:5px;\n",
    "           background-color:#1663BE;\n",
    "           font-size:110%;\n",
    "           font-family:Calibri;\n",
    "           letter-spacing:0.5px\">\n",
    "\n",
    "<p style=\"padding: 0.015px;\n",
    "              color:black;\">  \n",
    "\n",
    "#   6. Exploratory Data Analysis\n",
    "\n",
    "<p style=\"padding: 0.015px;\n",
    "              color:white;\">\n",
    "</p>\n",
    "</div>"
   ]
  },
  {
   "cell_type": "code",
   "execution_count": null,
   "id": "49c4bd9e",
   "metadata": {},
   "outputs": [],
   "source": [
    "# Importing required libraries\n",
    "\n",
    "import matplotlib.pyplot as plt\n",
    "%matplotlib inline\n",
    "import seaborn as sns\n",
    "sns.set_style(\"whitegrid\")"
   ]
  },
  {
   "cell_type": "code",
   "execution_count": null,
   "id": "e3d20ae4",
   "metadata": {},
   "outputs": [],
   "source": [
    "# Segregating numerical and categorical type features\n",
    "\n",
    "num_vars=[]\n",
    "cat_vars=[]\n",
    "for col in bike_clean.columns:\n",
    "    if (bike_clean[col].nunique()>12):\n",
    "        num_vars.append(col)\n",
    "    else:\n",
    "        cat_vars.append(col)\n",
    "print(f'Numeric features: {num_vars}')\n",
    "print()\n",
    "print(f'Categorical features: {cat_vars}')"
   ]
  },
  {
   "cell_type": "code",
   "execution_count": null,
   "id": "8f0de7c7",
   "metadata": {},
   "outputs": [],
   "source": [
    "# Visualizing the correlation coefficients of numerical features using pair plot\n",
    "\n",
    "sns.pairplot(bike_clean[num_vars])\n",
    "plt.show()"
   ]
  },
  {
   "cell_type": "code",
   "execution_count": null,
   "id": "f89e82b1",
   "metadata": {},
   "outputs": [],
   "source": [
    "# Visualizing categorical features using box plot and bar plot\n",
    "\n",
    "for feature in cat_vars:\n",
    "    df=bike_clean[[feature,'cnt']].groupby([feature],as_index=False).sum()\n",
    "    df.sort_values(by='cnt', ascending=False, inplace=True)\n",
    "    df1=bike_clean[[feature,'cnt']].groupby([feature],as_index=False).sum()\n",
    "    df1['cnt']=df1[\"cnt\"]/(df1[\"cnt\"].sum())*100\n",
    "    df1.sort_values(by='cnt', ascending=False, inplace=True)\n",
    "          \n",
    "    fig, (ax1, ax2) = plt.subplots(ncols=2, figsize=(14,6))\n",
    "    \n",
    "    # 1. Subplot 1: box plot of categorical column\n",
    "    s=sns.boxplot(ax=ax1,x=feature,y=\"cnt\",data=bike_clean)\n",
    "    ax1.set_xlabel(\"\")\n",
    "    ax1.set_title(f\"Feature : {feature} \\n\", fontdict={'fontsize' : 15, 'fontweight' : 12, 'color' : 'Black'})\n",
    "    \n",
    "    # 2. Subplot 2: cnt% within the categorical column\n",
    "    s = sns.barplot(ax=ax2,x = feature, y='cnt', data=df1,order=df1[feature], palette='YlOrBr')\n",
    "    ax2.set_xlabel(\"\")\n",
    "    ax2.bar_label(ax2.containers[0], fmt='\\n%.2f', label_type='edge')\n",
    "    ax2.set_title(f\"Feature : {feature} \\n\", fontdict={'fontsize' : 15, 'fontweight' : 12, 'color' : 'Black'})\n",
    "    ax2.set_ylabel(\"cnt %\")\n",
    "    plt.tight_layout()\n",
    "    plt.show()\n",
    "    print(\"-\"*127)"
   ]
  },
  {
   "cell_type": "markdown",
   "id": "00becd26",
   "metadata": {},
   "source": [
    "<div style=\"color:maroon;\n",
    "           display:fill;\n",
    "           border-radius:5px;\n",
    "           background-color:#FFE5B4;\n",
    "           font-size:110%;\n",
    "           font-family:Calibri;\n",
    "           letter-spacing:0.5px\">\n",
    "\n",
    "<p style=\"padding: 0.02px;\n",
    "              color:white;\">\n",
    "\n",
    "### Summary:\n",
    "\n",
    "<b>Insights from the pairplot of the numerical features:</b>\n",
    "\n",
    "1. There is a linear relationship between `temp`, `atemp` and `count`. \n",
    "2. Both `temp` and `atemp` have strong linear relationship hence cannot be used in the model due to multicolinearity. \n",
    "\n",
    "<b>Insights from the box-plot of the categorical features:</b>\n",
    "\n",
    "1. `season`, `yr`, `mnth`, `weathersit` show trends for booking, thus seem to be a good predictor for the dependent variable\n",
    "2. `weekday` shows close trend and may or may not be a good predictor for the dependent variable.\n",
    "3. `workingday` does not show any trends for booking hence it may not be a good predictor for the dependent variable.\n",
    "4. `holiday` shows trends for booking and can be a predictor for the dependent variable.\n",
    "    \n",
    "<b>Insights from the bar-plot of the categorical features:</b>    \n",
    "1. `season`: Fall season seems to have attracted more bookings.\n",
    "2. `yr`: 2019 attracted more number of bookings as compared to 2018, which shows good progress in terms of business.\n",
    "3. `mnth`: Most of the bookings have been done between the month of may to oct, with aug recoding highest bookings.\n",
    "4. `holiday`: Less bookings when its not a holiday as people may want to spend time at home and enjoy with family.\n",
    "5. `weekday`: Number of bookings look identical across the weekdays.\n",
    "6. `workingday`: More bookings on workingday.\n",
    "7. `weathersit`: Clear weather attracted more bookings which seems obvious.\n",
    "<p style=\"padding: 0.05px;\n",
    "              color:white;\">\n",
    "</p>\n",
    "</div>\n"
   ]
  },
  {
   "cell_type": "markdown",
   "id": "e18b14c7",
   "metadata": {},
   "source": [
    "<div style=\"color:white;\n",
    "           display:fill;\n",
    "           border-radius:5px;\n",
    "           background-color:#1663BE;\n",
    "           font-size:110%;\n",
    "           font-family:Calibri;\n",
    "           letter-spacing:0.5px\">\n",
    "\n",
    "<p style=\"padding: 0.015px;\n",
    "              color:black;\">  \n",
    "\n",
    "# 7. Preparing the Data for Modelling\n",
    "\n",
    "<p style=\"padding: 0.015px;\n",
    "              color:white;\">\n",
    "</p>\n",
    "</div>"
   ]
  },
  {
   "cell_type": "markdown",
   "id": "8408f4c6",
   "metadata": {},
   "source": [
    "### a. Encoding"
   ]
  },
  {
   "cell_type": "code",
   "execution_count": null,
   "id": "56c38d7e",
   "metadata": {},
   "outputs": [],
   "source": [
    "# Selecting the columns fit for categorical type\n",
    "\n",
    "dummy_vars=[]\n",
    "for col in bike_clean.columns:\n",
    "    if (bike_clean[col].nunique()<13 and bike_clean[col].nunique()>2):\n",
    "        dummy_vars.append(col)\n",
    "dummy_vars"
   ]
  },
  {
   "cell_type": "code",
   "execution_count": null,
   "id": "7e8095de",
   "metadata": {},
   "outputs": [],
   "source": [
    "# Converting the selected columns to categorical type\n",
    "\n",
    "for col in dummy_vars:\n",
    "    bike_clean[col]=bike_clean[col].astype('category')"
   ]
  },
  {
   "cell_type": "code",
   "execution_count": null,
   "id": "b13f43ef",
   "metadata": {},
   "outputs": [],
   "source": [
    "# Validating changes\n",
    "\n",
    "bike_clean.info()"
   ]
  },
  {
   "cell_type": "code",
   "execution_count": null,
   "id": "75595d05",
   "metadata": {},
   "outputs": [],
   "source": [
    "# Creating dummy variables for the selected features\n",
    "\n",
    "bike_clean = pd.get_dummies(bike_clean, drop_first=True)"
   ]
  },
  {
   "cell_type": "code",
   "execution_count": null,
   "id": "1619caaf",
   "metadata": {},
   "outputs": [],
   "source": [
    "# Checking information of the prepared dataset\n",
    "\n",
    "bike_clean.info()"
   ]
  },
  {
   "cell_type": "code",
   "execution_count": null,
   "id": "f9a09944",
   "metadata": {},
   "outputs": [],
   "source": [
    "# Checking the shape of prepared data\n",
    "\n",
    "bike_clean.shape"
   ]
  },
  {
   "cell_type": "markdown",
   "id": "f2c0de3a",
   "metadata": {},
   "source": [
    "### b. Test-Train Splitting "
   ]
  },
  {
   "cell_type": "code",
   "execution_count": null,
   "id": "3d9d6e91",
   "metadata": {},
   "outputs": [],
   "source": [
    "# Importing required libraries\n",
    "\n",
    "import sklearn \n",
    "from sklearn.model_selection import train_test_split"
   ]
  },
  {
   "cell_type": "code",
   "execution_count": null,
   "id": "59c0fd76",
   "metadata": {},
   "outputs": [],
   "source": [
    "# Splitting the data into train and test\n",
    "\n",
    "np.random.seed(0)\n",
    "df_train,df_test=train_test_split(bike_clean,train_size=0.7,random_state=100)\n",
    "print(f'df_train shape: {df_train.shape}')\n",
    "print(f'df_test shape: {df_test.shape}')"
   ]
  },
  {
   "cell_type": "markdown",
   "id": "42aae5ad",
   "metadata": {},
   "source": [
    "### c. Rescaling"
   ]
  },
  {
   "cell_type": "code",
   "execution_count": null,
   "id": "30c9d879",
   "metadata": {},
   "outputs": [],
   "source": [
    "# Importing required libraries\n",
    "\n",
    "from sklearn.preprocessing import MinMaxScaler"
   ]
  },
  {
   "cell_type": "code",
   "execution_count": null,
   "id": "67a3789c",
   "metadata": {},
   "outputs": [],
   "source": [
    "# Instantiating an object\n",
    "\n",
    "scaler=MinMaxScaler()\n",
    "\n",
    "# Fitting and transforming the train-set\n",
    "\n",
    "df_train[num_vars]=scaler.fit_transform(df_train[num_vars])\n",
    "\n",
    "# Displaying statistical summary of train-set after rescaling\n",
    "\n",
    "df_train[num_vars].describe()"
   ]
  },
  {
   "cell_type": "markdown",
   "id": "8405cbf3",
   "metadata": {},
   "source": [
    "<div style=\"color:maroon;\n",
    "           display:fill;\n",
    "           border-radius:5px;\n",
    "           background-color:#FFE5B4;\n",
    "           font-size:110%;\n",
    "           font-family:Calibri;\n",
    "           letter-spacing:0.5px\">\n",
    "\n",
    "<p style=\"padding: 0.02px;\n",
    "              color:white;\">\n",
    "\n",
    "### Summary:\n",
    "\n",
    "- Created dummy variables for categorical features `season`, `mnth`, `weekday` and `weathersit`\n",
    "- Performed the test-train split\n",
    "- Fitted and transformed the numerical features `temp`, `atemp`, `hum`, `windspeed` and `cnt` of train data with Min-Max scaling\n",
    "<p style=\"padding: 0.05px;\n",
    "              color:white;\">\n",
    "</p>\n",
    "</div>\n"
   ]
  },
  {
   "cell_type": "markdown",
   "id": "f31642c0",
   "metadata": {},
   "source": [
    "<div style=\"color:white;\n",
    "           display:fill;\n",
    "           border-radius:5px;\n",
    "           background-color:#1663BE;\n",
    "           font-size:110%;\n",
    "           font-family:Calibri;\n",
    "           letter-spacing:0.5px\">\n",
    "\n",
    "<p style=\"padding: 0.015px;\n",
    "              color:black;\">  \n",
    "\n",
    "# 8. Training the Model\n",
    "\n",
    "<p style=\"padding: 0.015px;\n",
    "              color:white;\">\n",
    "</p>\n",
    "</div>"
   ]
  },
  {
   "cell_type": "markdown",
   "id": "7d879e00",
   "metadata": {},
   "source": [
    "### a. Checking correlation coefficients"
   ]
  },
  {
   "cell_type": "code",
   "execution_count": null,
   "id": "f5c14cf4",
   "metadata": {},
   "outputs": [],
   "source": [
    "# Visualizing the correlation coefficients of all features using heatmap\n",
    "\n",
    "plt.figure(figsize=(20,20))\n",
    "sns.heatmap(df_train.corr(),annot=True,cmap='RdYlGn')\n",
    "plt.tight_layout()\n",
    "plt.show()"
   ]
  },
  {
   "cell_type": "markdown",
   "id": "b8297fd7",
   "metadata": {},
   "source": [
    "### b. Splitting into X_train and y_train"
   ]
  },
  {
   "cell_type": "code",
   "execution_count": null,
   "id": "5d8ee4bd",
   "metadata": {},
   "outputs": [],
   "source": [
    "# Creating X_train and y_train\n",
    "\n",
    "y_train=df_train.pop(\"cnt\")\n",
    "X_train=df_train"
   ]
  },
  {
   "cell_type": "markdown",
   "id": "bb05331a",
   "metadata": {},
   "source": [
    "### c. Selecting features using RFE"
   ]
  },
  {
   "cell_type": "code",
   "execution_count": null,
   "id": "3232821b",
   "metadata": {},
   "outputs": [],
   "source": [
    "# Importing RFE and LinearRegression\n",
    "\n",
    "from sklearn.feature_selection import RFE\n",
    "from sklearn.linear_model import LinearRegression"
   ]
  },
  {
   "cell_type": "code",
   "execution_count": null,
   "id": "a0b00170",
   "metadata": {},
   "outputs": [],
   "source": [
    "# Running RFE with the output number of the variable equal to 15\n",
    "\n",
    "lm = LinearRegression()\n",
    "lm.fit(X_train, y_train)\n",
    "\n",
    "# running RFE\n",
    "rfe = RFE(lm, n_features_to_select=15)\n",
    "\n",
    "rfe = rfe.fit(X_train, y_train)"
   ]
  },
  {
   "cell_type": "code",
   "execution_count": null,
   "id": "ea0b0353",
   "metadata": {},
   "outputs": [],
   "source": [
    "# Investigating feature ranking\n",
    "\n",
    "list(zip(X_train.columns,rfe.support_,rfe.ranking_))"
   ]
  },
  {
   "cell_type": "code",
   "execution_count": null,
   "id": "b9d78d67",
   "metadata": {},
   "outputs": [],
   "source": [
    "# Checking top ranked features\n",
    "\n",
    "col = X_train.columns[rfe.support_]\n",
    "col"
   ]
  },
  {
   "cell_type": "code",
   "execution_count": null,
   "id": "fc468465",
   "metadata": {},
   "outputs": [],
   "source": [
    "# Checking insignificant features\n",
    "\n",
    "X_train.columns[~rfe.support_]"
   ]
  },
  {
   "cell_type": "code",
   "execution_count": null,
   "id": "5eaa5012",
   "metadata": {},
   "outputs": [],
   "source": [
    "# Creating X_test dataframe with RFE selected variables\n",
    "\n",
    "X_train_rfe = X_train[col]"
   ]
  },
  {
   "cell_type": "markdown",
   "id": "c7af6110",
   "metadata": {},
   "source": [
    "<div style=\"color:maroon;\n",
    "           display:fill;\n",
    "           border-radius:5px;\n",
    "           background-color:#FFE5B4;\n",
    "           font-size:110%;\n",
    "           font-family:Calibri;\n",
    "           letter-spacing:0.5px\">\n",
    "\n",
    "<p style=\"padding: 0.02px;\n",
    "              color:white;\">\n",
    "\n",
    "### Summary:\n",
    "\n",
    "- It is evident from the heatmap that the target variable has correlation with some of the independent variables.\n",
    "- The heatmap also suggests that some of the independent variables are correlated.\n",
    "- The data is fit for building linear regression model, hence proceeded with splitting and recursive function elimination(RFE) for feature ranking for selecting the features.\n",
    "<p style=\"padding: 0.05px;\n",
    "              color:white;\">\n",
    "</p>\n",
    "</div>\n"
   ]
  },
  {
   "cell_type": "markdown",
   "id": "15415d6d",
   "metadata": {},
   "source": [
    "<div style=\"color:white;\n",
    "           display:fill;\n",
    "           border-radius:5px;\n",
    "           background-color:#1663BE;\n",
    "           font-size:110%;\n",
    "           font-family:Calibri;\n",
    "           letter-spacing:0.5px\">\n",
    "\n",
    "<p style=\"padding: 0.015px;\n",
    "              color:black;\">  \n",
    "\n",
    "# 9. Modelling the Data\n",
    "\n",
    "<p style=\"padding: 0.015px;\n",
    "              color:white;\">\n",
    "</p>\n",
    "</div>\n"
   ]
  },
  {
   "cell_type": "code",
   "execution_count": null,
   "id": "1a9600e1",
   "metadata": {},
   "outputs": [],
   "source": [
    "# Importing required library\n",
    "\n",
    "from statsmodels.stats.outliers_influence import variance_inflation_factor\n",
    "import statsmodels.api as sm"
   ]
  },
  {
   "cell_type": "code",
   "execution_count": null,
   "id": "13f1534a",
   "metadata": {},
   "outputs": [],
   "source": [
    "# Defining VIF function\n",
    "\n",
    "def vif(train_set):\n",
    "    vif = pd.DataFrame()\n",
    "    vif['Features'] = train_set.columns\n",
    "    vif['VIF'] = [variance_inflation_factor(train_set.values, i) for i in range(train_set.shape[1])]\n",
    "    vif['VIF'] = round(vif['VIF'], 2)\n",
    "    vif = vif.sort_values(by = \"VIF\", ascending = False)\n",
    "    return vif"
   ]
  },
  {
   "cell_type": "code",
   "execution_count": null,
   "id": "debb684b",
   "metadata": {},
   "outputs": [],
   "source": [
    "# Defining modelling function\n",
    "\n",
    "def modelling(train_set,lm_name,lr_name):\n",
    "    # Adding a constant\n",
    "    globals()[lm_name]=sm.add_constant(train_set)\n",
    "    \n",
    "    # Creating a fitted model\n",
    "    globals()[lr_name]=sm.OLS(y_train, globals()[lm_name]).fit()\n",
    "\n",
    "    \n",
    "    # Printing OLS Regression Results\n",
    "    print((globals()[lr_name]).summary())"
   ]
  },
  {
   "cell_type": "markdown",
   "id": "d748052c",
   "metadata": {},
   "source": [
    "##  Model 1"
   ]
  },
  {
   "cell_type": "code",
   "execution_count": null,
   "id": "cad4f425",
   "metadata": {},
   "outputs": [],
   "source": [
    "# VIF check\n",
    "\n",
    "vif(X_train_rfe)"
   ]
  },
  {
   "cell_type": "code",
   "execution_count": null,
   "id": "05250e77",
   "metadata": {},
   "outputs": [],
   "source": [
    "# Adding constant, creating a fitted model and printing the OLS Regression Results\n",
    "\n",
    "modelling(X_train_rfe,\"X_train_lm1\",\"lr1\")"
   ]
  },
  {
   "cell_type": "markdown",
   "id": "16ceb62a",
   "metadata": {},
   "source": [
    "## Model 2"
   ]
  },
  {
   "cell_type": "code",
   "execution_count": null,
   "id": "7d6a6043",
   "metadata": {},
   "outputs": [],
   "source": [
    "# Removing the variable 'hum' based on its high VIF\n",
    "\n",
    "X_train_rfe = X_train_rfe.drop([\"hum\"], axis = 1)"
   ]
  },
  {
   "cell_type": "code",
   "execution_count": null,
   "id": "cecbf19b",
   "metadata": {},
   "outputs": [],
   "source": [
    "# VIF check\n",
    "\n",
    "vif(X_train_rfe)"
   ]
  },
  {
   "cell_type": "code",
   "execution_count": null,
   "id": "5f6eb4f1",
   "metadata": {},
   "outputs": [],
   "source": [
    "# Adding constant, creating a fitted model and printing the OLS Regression Results\n",
    "\n",
    "modelling(X_train_rfe,\"X_train_lm2\",\"lr2\")"
   ]
  },
  {
   "cell_type": "markdown",
   "id": "85e13a27",
   "metadata": {},
   "source": [
    "## Model 3"
   ]
  },
  {
   "cell_type": "code",
   "execution_count": null,
   "id": "414b04dc",
   "metadata": {},
   "outputs": [],
   "source": [
    "# Removing the variable 'mnth_nov' based on its high p-value\n",
    "\n",
    "X_train_rfe = X_train_rfe.drop([\"mnth_nov\"], axis = 1)"
   ]
  },
  {
   "cell_type": "code",
   "execution_count": null,
   "id": "74e004d0",
   "metadata": {},
   "outputs": [],
   "source": [
    "# VIF check\n",
    "\n",
    "vif(X_train_rfe)"
   ]
  },
  {
   "cell_type": "code",
   "execution_count": null,
   "id": "7913b24f",
   "metadata": {},
   "outputs": [],
   "source": [
    "# Adding constant, creating a fitted model and printing the OLS Regression Results\n",
    "\n",
    "modelling(X_train_rfe,\"X_train_lm3\",\"lr3\")"
   ]
  },
  {
   "cell_type": "markdown",
   "id": "7a81505f",
   "metadata": {},
   "source": [
    "## Model 4"
   ]
  },
  {
   "cell_type": "code",
   "execution_count": null,
   "id": "25462d48",
   "metadata": {},
   "outputs": [],
   "source": [
    "# Removing the variable 'mnth_dec' based on its high p-value\n",
    "\n",
    "X_train_rfe= X_train_rfe.drop([\"mnth_dec\"], axis = 1)"
   ]
  },
  {
   "cell_type": "code",
   "execution_count": null,
   "id": "399c836f",
   "metadata": {},
   "outputs": [],
   "source": [
    "# VIF check\n",
    "\n",
    "vif(X_train_rfe)"
   ]
  },
  {
   "cell_type": "code",
   "execution_count": null,
   "id": "bae1c490",
   "metadata": {},
   "outputs": [],
   "source": [
    "# Adding constant, creating a fitted model and printing the OLS Regression Results\n",
    "\n",
    "modelling(X_train_rfe,\"X_train_lm4\",\"lr4\")"
   ]
  },
  {
   "cell_type": "markdown",
   "id": "7cee436d",
   "metadata": {},
   "source": [
    "## Model 5"
   ]
  },
  {
   "cell_type": "code",
   "execution_count": null,
   "id": "93e17f77",
   "metadata": {},
   "outputs": [],
   "source": [
    "# Removing the variable 'mnth_jan' based on its high p-value\n",
    "\n",
    "X_train_rfe = X_train_rfe.drop([\"mnth_jan\"], axis = 1)"
   ]
  },
  {
   "cell_type": "code",
   "execution_count": null,
   "id": "c44b3b4a",
   "metadata": {},
   "outputs": [],
   "source": [
    "# VIF check\n",
    "\n",
    "vif(X_train_rfe)"
   ]
  },
  {
   "cell_type": "code",
   "execution_count": null,
   "id": "40a7de09",
   "metadata": {},
   "outputs": [],
   "source": [
    "# Adding constant, creating a fitted model and printing the OLS Regression Results\n",
    "\n",
    "modelling(X_train_rfe,\"X_train_lm5\",\"lr5\")"
   ]
  },
  {
   "cell_type": "markdown",
   "id": "9dd6114a",
   "metadata": {},
   "source": [
    "## Model 6"
   ]
  },
  {
   "cell_type": "code",
   "execution_count": null,
   "id": "a9fdbfb4",
   "metadata": {},
   "outputs": [],
   "source": [
    "# Removing the variable 'mnth_july' based on its high VIF\n",
    "\n",
    "X_train_rfe = X_train_rfe.drop([\"mnth_july\"], axis = 1)"
   ]
  },
  {
   "cell_type": "code",
   "execution_count": null,
   "id": "c2267e92",
   "metadata": {},
   "outputs": [],
   "source": [
    "# VIF check\n",
    "\n",
    "vif(X_train_rfe)"
   ]
  },
  {
   "cell_type": "code",
   "execution_count": null,
   "id": "860c6a44",
   "metadata": {},
   "outputs": [],
   "source": [
    "# Adding constant, creating a fitted model and printing the OLS Regression Results\n",
    "\n",
    "modelling(X_train_rfe,\"X_train_lm6\",\"lr6\")"
   ]
  },
  {
   "cell_type": "markdown",
   "id": "fea60e89",
   "metadata": {},
   "source": [
    "## Model 7"
   ]
  },
  {
   "cell_type": "code",
   "execution_count": null,
   "id": "05693828",
   "metadata": {},
   "outputs": [],
   "source": [
    "# Removing the variable 'season-spring' based on its high p-value\n",
    "\n",
    "X_train_rfe = X_train_rfe.drop([\"season_spring\"], axis = 1)"
   ]
  },
  {
   "cell_type": "code",
   "execution_count": null,
   "id": "012ab548",
   "metadata": {},
   "outputs": [],
   "source": [
    "# VIF check\n",
    "\n",
    "vif(X_train_rfe)"
   ]
  },
  {
   "cell_type": "code",
   "execution_count": null,
   "id": "91a91adb",
   "metadata": {},
   "outputs": [],
   "source": [
    "# Adding constant, creating a fitted model and printing the OLS Regression Results\n",
    "\n",
    "modelling(X_train_rfe,\"X_train_lm7\",\"lr7\")"
   ]
  },
  {
   "cell_type": "code",
   "execution_count": null,
   "id": "13cef019",
   "metadata": {},
   "outputs": [],
   "source": [
    "# Checking the parameters and their coefficient values of final model (lr7)\n",
    "\n",
    "lr7.params"
   ]
  },
  {
   "cell_type": "markdown",
   "id": "53260739",
   "metadata": {},
   "source": [
    "<div style=\"color:maroon;\n",
    "           display:fill;\n",
    "           border-radius:5px;\n",
    "           background-color:#FFE5B4;\n",
    "           font-size:110%;\n",
    "           font-family:Calibri;\n",
    "           letter-spacing:0.5px\">\n",
    "\n",
    "<p style=\"padding: 0.02px;\n",
    "              color:white;\">\n",
    "\n",
    "### Summary:\n",
    "\n",
    "- Manually eliminated independent variables on the basis of high p-value and high VIF\n",
    "- Considered Model 7(lr7) as the final model, since it has all important statistics high (R-square, Adjusted R-squared and F-statistic), along with no insignificant variables and no multi coliinear (high VIF) variables. \n",
    "<p style=\"padding: 0.05px;\n",
    "              color:white;\">\n",
    "</p>\n",
    "</div>\n",
    "\n",
    "\n",
    "<div style=\"color:white;\n",
    "           display:fill;\n",
    "           border-radius:5px;\n",
    "           background-color:#1663BE;\n",
    "           font-size:110%;\n",
    "           font-family:Calibri;\n",
    "           letter-spacing:0.5px\">\n",
    "\n",
    "<p style=\"padding: 0.015px;\n",
    "              color:black;\">  \n",
    "\n",
    "# 10. Residual Analysis and Validation of Assumptions\n",
    "\n",
    "<p style=\"padding: 0.015px;\n",
    "              color:white;\">\n",
    "</p>\n",
    "</div>"
   ]
  },
  {
   "cell_type": "code",
   "execution_count": null,
   "id": "7ad902cd",
   "metadata": {},
   "outputs": [],
   "source": [
    "# Making predictions on the train set\n",
    "\n",
    "y_train_pred=lr7.predict(X_train_lm7)\n",
    "\n",
    "# Finding residuals\n",
    "\n",
    "res=y_train-y_train_pred"
   ]
  },
  {
   "cell_type": "markdown",
   "id": "ab448985",
   "metadata": {},
   "source": [
    "### a. Linear Relationship"
   ]
  },
  {
   "cell_type": "code",
   "execution_count": null,
   "id": "4ed3ea54",
   "metadata": {},
   "outputs": [],
   "source": [
    "# Plotting CCPR plot to check linear relationship between the outcome and the independent variables\n",
    "\n",
    "fig = plt.figure(figsize=(12, 20))\n",
    "sm.graphics.plot_ccpr_grid(lr7, fig=fig)\n",
    "plt.show()"
   ]
  },
  {
   "cell_type": "markdown",
   "id": "8f48bfbb",
   "metadata": {},
   "source": [
    "### b. Multivariate Normality"
   ]
  },
  {
   "cell_type": "code",
   "execution_count": null,
   "id": "e7c46599",
   "metadata": {},
   "outputs": [],
   "source": [
    "# Ploiting the histogram of the error terms\n",
    "\n",
    "fig = plt.figure()\n",
    "sns.distplot((res), bins = 20)\n",
    "fig.suptitle('Error Terms', fontsize = 20)                  # Plot heading \n",
    "plt.xlabel('Errors', fontsize = 18)                         # X-label\n",
    "plt.show()"
   ]
  },
  {
   "cell_type": "markdown",
   "id": "a7845432",
   "metadata": {},
   "source": [
    "### c. No multicollinearity"
   ]
  },
  {
   "cell_type": "code",
   "execution_count": null,
   "id": "fe77fef3",
   "metadata": {},
   "outputs": [],
   "source": [
    "# Validating no multicollinearity using heatmap\n",
    "\n",
    "plt.figure(figsize=(12,6))\n",
    "sns.heatmap(X_train_rfe.corr(),annot = True, cmap=\"coolwarm\")\n",
    "plt.show()"
   ]
  },
  {
   "cell_type": "markdown",
   "id": "6ff31817",
   "metadata": {},
   "source": [
    "### d. Homoscedasticity"
   ]
  },
  {
   "cell_type": "code",
   "execution_count": null,
   "id": "cb9c1c87",
   "metadata": {},
   "outputs": [],
   "source": [
    "# Homoscedasticity check using scatter plot\n",
    "\n",
    "sns.regplot(y_train_pred,res)\n",
    "plt.xlabel('Count')\n",
    "plt.ylabel('Residual')\n",
    "plt.show()"
   ]
  },
  {
   "cell_type": "markdown",
   "id": "8254a183",
   "metadata": {},
   "source": [
    "### e. No Autocorrelation"
   ]
  },
  {
   "cell_type": "code",
   "execution_count": null,
   "id": "36d618d3",
   "metadata": {},
   "outputs": [],
   "source": [
    "# Checking Durbin Watson for Autocorrelation\n",
    "\n",
    "from statsmodels.stats.stattools import durbin_watson\n",
    "round(durbin_watson(lr7.resid),3)"
   ]
  },
  {
   "cell_type": "markdown",
   "id": "7bb51062",
   "metadata": {},
   "source": [
    "<div style=\"color:maroon;\n",
    "           display:fill;\n",
    "           border-radius:5px;\n",
    "           background-color:#FFE5B4;\n",
    "           font-size:110%;\n",
    "           font-family:Calibri;\n",
    "           letter-spacing:0.5px\">\n",
    "\n",
    "<p style=\"padding: 0.02px;\n",
    "              color:white;\">\n",
    "\n",
    "### Summary:\n",
    "\n",
    "- The CCPR Plot confirms the linear relationship between the independent and the depended variables.\n",
    "- The histogram confirms that the errors between observed and predicted values (i.e., the residuals of the regression) are normally distributed.\n",
    "- The heatmap confirms that there is no multicollinearity in the data as the magnitude of the correlation coefficients is less than .80.\n",
    "- The regplot of residuals versus predicted values confirms that there is no clear pattern in the distribution.\n",
    "- The Durbin-Watson value of final model lr7 is 2.097, which signifies there is no autocorrelation.\n",
    "<p style=\"padding: 0.05px;\n",
    "              color:white;\">\n",
    "</p>\n",
    "</div>\n"
   ]
  },
  {
   "cell_type": "markdown",
   "id": "c3646d4d",
   "metadata": {},
   "source": [
    "<div style=\"color:white;\n",
    "           display:fill;\n",
    "           border-radius:5px;\n",
    "           background-color:#1663BE;\n",
    "           font-size:110%;\n",
    "           font-family:Calibri;\n",
    "           letter-spacing:0.5px\">\n",
    "\n",
    "<p style=\"padding: 0.015px;\n",
    "              color:black;\">  \n",
    "\n",
    "# 11. Prediction on Test Set\n",
    "\n",
    "<p style=\"padding: 0.015px;\n",
    "              color:white;\">\n",
    "</p>\n",
    "</div>"
   ]
  },
  {
   "cell_type": "markdown",
   "id": "92c533ef",
   "metadata": {},
   "source": [
    "### a). Applying Scaling on Test Set"
   ]
  },
  {
   "cell_type": "code",
   "execution_count": null,
   "id": "6fcaa876",
   "metadata": {},
   "outputs": [],
   "source": [
    "# Transforming numeric features using min-max scaler\n",
    "\n",
    "df_test[num_vars]=scaler.transform(df_test[num_vars])\n",
    "df_test.describe()"
   ]
  },
  {
   "cell_type": "markdown",
   "id": "fc2f78f6",
   "metadata": {},
   "source": [
    "### b). Splitting into X_test and y_test"
   ]
  },
  {
   "cell_type": "code",
   "execution_count": null,
   "id": "501180e5",
   "metadata": {},
   "outputs": [],
   "source": [
    "# X_test and y-test split\n",
    "\n",
    "y_test = df_test.pop('cnt')\n",
    "X_test = df_test"
   ]
  },
  {
   "cell_type": "markdown",
   "id": "3ef62897",
   "metadata": {},
   "source": [
    "### c). Making Predictions"
   ]
  },
  {
   "cell_type": "code",
   "execution_count": null,
   "id": "f044c44c",
   "metadata": {},
   "outputs": [],
   "source": [
    "# Now let's use our model to make predictions.\n",
    "\n",
    "# Creating X_test_new dataframe by dropping variables from X_test\n",
    "X_test_new = X_test[X_train_rfe.columns]\n",
    "\n",
    "# Adding a constant variable \n",
    "X_test_new = sm.add_constant(X_test_new)\n",
    "\n",
    "# Making predictions\n",
    "y_test_pred = lr7.predict(X_test_new)"
   ]
  },
  {
   "cell_type": "markdown",
   "id": "284f69b9",
   "metadata": {},
   "source": [
    "<div style=\"color:maroon;\n",
    "           display:fill;\n",
    "           border-radius:5px;\n",
    "           background-color:#FFE5B4;\n",
    "           font-size:110%;\n",
    "           font-family:Calibri;\n",
    "           letter-spacing:0.5px\">\n",
    "\n",
    "<p style=\"padding: 0.02px;\n",
    "              color:white;\">\n",
    "\n",
    "### Summary:\n",
    "\n",
    "- Transformed the numeric features of the test data with Min Max scaler.\n",
    "- Splitted the test data into X_test and y_test and dropped features in X_test to aling with X_train.\n",
    "- Made predications on the test set using the final model (lr7).\n",
    "<p style=\"padding: 0.05px;\n",
    "              color:white;\">\n",
    "</p>\n",
    "</div>\n"
   ]
  },
  {
   "cell_type": "markdown",
   "id": "7af3b909",
   "metadata": {},
   "source": [
    "<div style=\"color:white;\n",
    "           display:fill;\n",
    "           border-radius:5px;\n",
    "           background-color:#1663BE;\n",
    "           font-size:110%;\n",
    "           font-family:Calibri;\n",
    "           letter-spacing:0.5px\">\n",
    "\n",
    "<p style=\"padding: 0.015px;\n",
    "              color:black;\">  \n",
    "\n",
    "# 12. Model Evaluation\n",
    "\n",
    "<p style=\"padding: 0.015px;\n",
    "              color:white;\">\n",
    "</p>\n",
    "</div>"
   ]
  },
  {
   "cell_type": "code",
   "execution_count": null,
   "id": "0fb3fa27",
   "metadata": {},
   "outputs": [],
   "source": [
    "# Plotting Actual vs Predicted to understand the spread.\n",
    "\n",
    "fig, ax = plt.subplots()\n",
    "ax.scatter(y_test, y_test_pred)\n",
    "ax.plot([y_test.min(), y_test.max()], [y_test.min(), y_test.max()], 'r--', lw=4)\n",
    "ax.set_title(\"Actual Vs Predicted\",fontsize=25)             # Plot heading \n",
    "ax.set_xlabel('Actual',fontsize=12)                         # X-label\n",
    "ax.set_ylabel('Predicted',fontsize=12)                      # Y-label\n",
    "plt.show()"
   ]
  },
  {
   "cell_type": "code",
   "execution_count": null,
   "id": "ddff2327",
   "metadata": {},
   "outputs": [],
   "source": [
    "# Evaluating on R2_Score\n",
    "\n",
    "from sklearn.metrics import r2_score\n",
    "\n",
    "print(f'R2-Score of Train Set: {r2_score(y_true=y_train,y_pred=y_train_pred)}')\n",
    "print(f'R2-Score of Test Set: {r2_score(y_true=y_test,y_pred=y_test_pred)}')                                       "
   ]
  },
  {
   "cell_type": "code",
   "execution_count": null,
   "id": "cb176287",
   "metadata": {},
   "outputs": [],
   "source": [
    "# Evaluating on Adjusted_R2\n",
    "\n",
    "print(f'Adjusted R2 of Train Set: {1-(1-r2_score(y_true=y_train,y_pred=y_train_pred))*(X_train_rfe.shape[0]-1)/(X_train_rfe.shape[0]-X_train_rfe.shape[1]-1)}')\n",
    "print(f'Adjusted R2 of Test Set: {1-(1-r2_score(y_true=y_test,y_pred=y_test_pred))*(X_test_new.shape[0]-1)/(X_test_new.shape[0]-X_test_new.shape[1]-1)}')"
   ]
  },
  {
   "cell_type": "code",
   "execution_count": null,
   "id": "095fdc0a",
   "metadata": {},
   "outputs": [],
   "source": [
    "# Evaluating of Actual Vs Predicted Plot of Train Set\n",
    "\n",
    "c = [i for i in range(0,len(X_train_rfe),1)]\n",
    "plt.figure(figsize=(14,5))\n",
    "plt.plot(c,y_train, color=\"blue\",linewidth=2.0)\n",
    "plt.plot(c,y_train_pred, color=\"red\",linewidth=2.0)\n",
    "plt.suptitle('Actual vs Predicted - Train Set', fontsize = 20)  # Plot title \n",
    "plt.xlabel('Index', fontsize=18)                                 # X-label\n",
    "plt.ylabel('Counts', fontsize=16)                                # Y-label\n",
    "plt.show()"
   ]
  },
  {
   "cell_type": "code",
   "execution_count": null,
   "id": "3d9daf8e",
   "metadata": {},
   "outputs": [],
   "source": [
    "# Evaluating of Actual Vs Predicted Plot of Test Set\n",
    "\n",
    "c = [i for i in range(0,len(X_test_new),1)]\n",
    "plt.figure(figsize=(14,5))\n",
    "plt.plot(c,y_test, color=\"blue\",linewidth=2.0)\n",
    "plt.plot(c,y_test_pred, color=\"red\",linewidth=2.0)\n",
    "plt.suptitle('Actual vs Predicted - Test Set', fontsize = 20)  # Plot title \n",
    "plt.xlabel('Index', fontsize=18)                                 # X-label\n",
    "plt.ylabel('Counts', fontsize=16)                                # Y-label\n",
    "plt.show()"
   ]
  },
  {
   "cell_type": "markdown",
   "id": "9c89aa90",
   "metadata": {},
   "source": [
    "<div style=\"color:maroon;\n",
    "           display:fill;\n",
    "           border-radius:5px;\n",
    "           background-color:#FFE5B4;\n",
    "           font-size:110%;\n",
    "           font-family:Calibri;\n",
    "           letter-spacing:0.5px\">\n",
    "\n",
    "<p style=\"padding: 0.02px;\n",
    "              color:white;\">\n",
    "\n",
    "### Summary:\n",
    "\n",
    "- The variance of the residuals (error terms) is constant across predictions, i.e error term does not vary much as the value of the predictor variable changes.\n",
    "- The R2 scores of train and test data are 0.83 and 0.79 respectively.\n",
    "- The adjusted R2 scores of train and test data are 0.83 and 0.78 respectively which is pretty decent.\n",
    "- Predictions on train and test data is very close to actuals.\n",
    "<p style=\"padding: 0.05px;\n",
    "              color:white;\">\n",
    "</p>\n",
    "</div>\n"
   ]
  },
  {
   "cell_type": "markdown",
   "id": "052fd92d",
   "metadata": {},
   "source": [
    "<div style=\"color:white;\n",
    "           display:fill;\n",
    "           border-radius:5px;\n",
    "           background-color:#1663BE;\n",
    "           font-size:110%;\n",
    "           font-family:Calibri;\n",
    "           letter-spacing:0.5px\">\n",
    "\n",
    "<p style=\"padding: 0.015px;\n",
    "              color:black;\">  \n",
    "\n",
    "# 13. Conclusion\n",
    "\n",
    "<p style=\"padding: 0.015px;\n",
    "              color:white;\">\n",
    "</p>\n",
    "</div>"
   ]
  },
  {
   "cell_type": "markdown",
   "id": "8a05f08c",
   "metadata": {},
   "source": [
    "<div style=\"color:maroon;\n",
    "           display:fill;\n",
    "           border-radius:5px;\n",
    "           background-color:#FFE5B4;\n",
    "           font-size:110%;\n",
    "           font-family:Calibri;\n",
    "           letter-spacing:0.5px\">\n",
    "\n",
    "<p style=\"padding: 0.02px;\n",
    "              color:white;\">\n",
    "\n",
    "### 1. Equation of best fit line:  \n",
    "    \n",
    "      \n",
    "\n",
    "\n",
    "      \n",
    "`cnt` = 0.125926 + 0.232861 x `yr` - 0.098685 x `holiday` + 0.548008 x `temp` - 0.153246 x `windspeed` + 0.088080 x `season_summer` +\n",
    "    \n",
    "0.129345 x `season_winter` + 0.101195 x `mnth_sep` - 0.282869 x `weathersit_light_snowrain` - 0.078375 x `weathersit_misty`      </b>      \n",
    "<p style=\"padding: 0.05px;\n",
    "              color:white;\">\n",
    "</p>\n",
    "</div>\n"
   ]
  },
  {
   "cell_type": "markdown",
   "id": "21f707eb",
   "metadata": {},
   "source": [
    "<div style=\"color:maroon;\n",
    "           display:fill;\n",
    "           border-radius:5px;\n",
    "           background-color:#FFE5B4;\n",
    "           font-size:110%;\n",
    "           font-family:Calibri;\n",
    "           letter-spacing:0.5px\">\n",
    "\n",
    "<p style=\"padding: 0.02px;\n",
    "              color:white;\">\n",
    "\n",
    "### 2. Variables significant in predicting the demand for shared bikes:  \n",
    "    \n",
    "   \n",
    "`yr`, `holiday`, `temp`, `windspeed`, `season_summer`, `season_winter`,   \n",
    "\n",
    "`mnth_sep`, `weathersit_light_snowrain`, `weathersit_misty`    \n",
    " </b>      \n",
    "<p style=\"padding: 0.05px;\n",
    "              color:white;\">\n",
    "</p>\n",
    "</div>\n"
   ]
  },
  {
   "cell_type": "markdown",
   "id": "2191e41a",
   "metadata": {},
   "source": [
    "<div style=\"color:maroon;\n",
    "           display:fill;\n",
    "           border-radius:5px;\n",
    "           background-color:#FFE5B4;\n",
    "           font-size:110%;\n",
    "           font-family:Calibri;\n",
    "           letter-spacing:0.5px\">\n",
    "\n",
    "<p style=\"padding: 0.02px;\n",
    "              color:white;\">\n",
    "\n",
    "### 3. How well the significant variables describe the bike demands?  \n",
    "    \n",
    "   \n",
    "- `yr`, `temp`, `season_summer`, `season_winter`, `mnth_sep` : Positively impact the bike demands. \n",
    "    \n",
    "    \n",
    "- `holiday`,`windspeed`,`weathersit_light_snowrain`,`weathersit_misty`: Negatively impact the bike demands.\n",
    "    \n",
    " </b>      \n",
    "<p style=\"padding: 0.05px;\n",
    "              color:white;\">\n",
    "</p>\n",
    "</div>\n"
   ]
  }
 ],
 "metadata": {
  "kernelspec": {
   "display_name": "Python 3 (ipykernel)",
   "language": "python",
   "name": "python3"
  },
  "language_info": {
   "codemirror_mode": {
    "name": "ipython",
    "version": 3
   },
   "file_extension": ".py",
   "mimetype": "text/x-python",
   "name": "python",
   "nbconvert_exporter": "python",
   "pygments_lexer": "ipython3",
   "version": "3.9.12"
  }
 },
 "nbformat": 4,
 "nbformat_minor": 5
}
